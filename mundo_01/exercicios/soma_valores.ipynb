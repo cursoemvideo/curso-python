{
 "cells": [
  {
   "cell_type": "code",
   "execution_count": 1,
   "metadata": {},
   "outputs": [],
   "source": [
    "# pedindo para o usuario inserir um valor\n",
    "num1 = float(input('Digite o primeiro valor: '))\n",
    "num2 = float(input('Digite o segundo valor: '))\n",
    "\n",
    "# somando os valores inseridos\n",
    "soma = num1 + num2"
   ]
  },
  {
   "cell_type": "code",
   "execution_count": 2,
   "metadata": {},
   "outputs": [
    {
     "name": "stdout",
     "output_type": "stream",
     "text": [
      "A soma entre 3.6545 e 1.0 é igual a 4.65!\n"
     ]
    }
   ],
   "source": [
    "# mostrando o resultado\n",
    "print('A soma entre {} e {} é igual a {}!'.format(num1, num2, round(soma, 2)))"
   ]
  }
 ],
 "metadata": {
  "kernelspec": {
   "display_name": "Python 3",
   "language": "python",
   "name": "python3"
  },
  "language_info": {
   "codemirror_mode": {
    "name": "ipython",
    "version": 3
   },
   "file_extension": ".py",
   "mimetype": "text/x-python",
   "name": "python",
   "nbconvert_exporter": "python",
   "pygments_lexer": "ipython3",
   "version": "3.8.8"
  }
 },
 "nbformat": 4,
 "nbformat_minor": 2
}
