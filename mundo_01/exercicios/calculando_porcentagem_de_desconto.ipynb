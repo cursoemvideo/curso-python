{
 "cells": [
  {
   "cell_type": "code",
   "execution_count": 1,
   "id": "8bc7c0f7",
   "metadata": {},
   "outputs": [
    {
     "name": "stdout",
     "output_type": "stream",
     "text": [
      "Qual é o preço do produto? R$6.58\n"
     ]
    }
   ],
   "source": [
    "preço = float(input('Qual é o preço do produto? R$'))"
   ]
  },
  {
   "cell_type": "code",
   "execution_count": 2,
   "id": "424e8d7c",
   "metadata": {},
   "outputs": [],
   "source": [
    "# calculando desconto da promocao\n",
    "novo = preço - (preço * 5 / 100)"
   ]
  },
  {
   "cell_type": "code",
   "execution_count": 3,
   "id": "6c925cc9",
   "metadata": {},
   "outputs": [
    {
     "name": "stdout",
     "output_type": "stream",
     "text": [
      "O produto que custava R$6.58, na promoção com desconto de 5% vai custar R$6.25\n"
     ]
    }
   ],
   "source": [
    "print('O produto que custava R${:.2f}, na promoção com desconto de 5% vai custar R${:.2f}'.format(preço, novo))"
   ]
  }
 ],
 "metadata": {
  "kernelspec": {
   "display_name": "Python 3",
   "language": "python",
   "name": "python3"
  },
  "language_info": {
   "codemirror_mode": {
    "name": "ipython",
    "version": 3
   },
   "file_extension": ".py",
   "mimetype": "text/x-python",
   "name": "python",
   "nbconvert_exporter": "python",
   "pygments_lexer": "ipython3",
   "version": "3.8.8"
  }
 },
 "nbformat": 4,
 "nbformat_minor": 5
}
