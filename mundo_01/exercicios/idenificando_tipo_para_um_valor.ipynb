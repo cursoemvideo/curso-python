{
 "cells": [
  {
   "cell_type": "code",
   "execution_count": 1,
   "metadata": {},
   "outputs": [
    {
     "name": "stdout",
     "output_type": "stream",
     "text": [
      "Digite qualquer valor: 6\n"
     ]
    }
   ],
   "source": [
    "# recebe um valor de entrada\n",
    "a = input('Digite qualquer valor: ')"
   ]
  },
  {
   "cell_type": "code",
   "execution_count": 2,
   "metadata": {},
   "outputs": [
    {
     "name": "stdout",
     "output_type": "stream",
     "text": [
      "O tipo primitivo desse valor é  <class 'str'>\n",
      "Só tem espaços?  False\n",
      "É um número?  True\n",
      "É alfabético?  False\n",
      "É alfanumérico?  True\n",
      "Está em maiúsculas?  False\n",
      "Está em minúsculas?  False\n",
      "Está capitalizada?  False\n"
     ]
    }
   ],
   "source": [
    "print('O tipo primitivo desse valor é ', type(a))\n",
    "print('Só tem espaços? ', a.isspace())\n",
    "print('É um número? ', a.isnumeric())\n",
    "print('É alfabético? ', a.isalpha())\n",
    "print('É alfanumérico? ', a.isalnum())\n",
    "print('Está em maiúsculas? ', a.isupper())\n",
    "print('Está em minúsculas? ', a.islower())\n",
    "print('Está capitalizada? ', a.istitle())"
   ]
  }
 ],
 "metadata": {
  "kernelspec": {
   "display_name": "Python 3",
   "language": "python",
   "name": "python3"
  },
  "language_info": {
   "codemirror_mode": {
    "name": "ipython",
    "version": 3
   },
   "file_extension": ".py",
   "mimetype": "text/x-python",
   "name": "python",
   "nbconvert_exporter": "python",
   "pygments_lexer": "ipython3",
   "version": "3.8.8"
  }
 },
 "nbformat": 4,
 "nbformat_minor": 2
}
