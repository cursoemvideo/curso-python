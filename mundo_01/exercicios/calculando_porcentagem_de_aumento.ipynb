{
 "cells": [
  {
   "cell_type": "code",
   "execution_count": 1,
   "id": "51319326",
   "metadata": {},
   "outputs": [
    {
     "name": "stdout",
     "output_type": "stream",
     "text": [
      "Qual é o salário do Funcionário? R$2000\n"
     ]
    }
   ],
   "source": [
    "salário = float(input('Qual é o salário do Funcionário? R$'))"
   ]
  },
  {
   "cell_type": "code",
   "execution_count": 2,
   "id": "56c2e98d",
   "metadata": {},
   "outputs": [],
   "source": [
    "# calculando acrescimo no salario\n",
    "novo = salário + (salário * 15 / 100)"
   ]
  },
  {
   "cell_type": "code",
   "execution_count": 3,
   "id": "f9b894ee",
   "metadata": {},
   "outputs": [
    {
     "name": "stdout",
     "output_type": "stream",
     "text": [
      "Um funcionário que ganhava R$2000.00, com 15% de aumento, passa a receber R$2300.00\n"
     ]
    }
   ],
   "source": [
    "print('Um funcionário que ganhava R${:.2f}, com 15% de aumento, passa a receber R${:.2f}'.format(salário, novo))"
   ]
  }
 ],
 "metadata": {
  "kernelspec": {
   "display_name": "Python 3",
   "language": "python",
   "name": "python3"
  },
  "language_info": {
   "codemirror_mode": {
    "name": "ipython",
    "version": 3
   },
   "file_extension": ".py",
   "mimetype": "text/x-python",
   "name": "python",
   "nbconvert_exporter": "python",
   "pygments_lexer": "ipython3",
   "version": "3.8.8"
  }
 },
 "nbformat": 4,
 "nbformat_minor": 5
}
