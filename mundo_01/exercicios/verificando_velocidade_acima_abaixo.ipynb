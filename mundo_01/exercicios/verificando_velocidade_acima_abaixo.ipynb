{
 "cells": [
  {
   "cell_type": "code",
   "execution_count": 1,
   "id": "dfdb1672",
   "metadata": {},
   "outputs": [
    {
     "name": "stdout",
     "output_type": "stream",
     "text": [
      "Qual é a velocidade atual do carro? 35\n"
     ]
    }
   ],
   "source": [
    "velocidade = float(input('Qual é a velocidade atual do carro? '))"
   ]
  },
  {
   "cell_type": "code",
   "execution_count": 2,
   "id": "87a501ae",
   "metadata": {},
   "outputs": [
    {
     "name": "stdout",
     "output_type": "stream",
     "text": [
      "\u001b[32mTenha um bom dia! Dirija com segurança!\n"
     ]
    }
   ],
   "source": [
    "if velocidade > 80:\n",
    "    print('\\033[31mMULTADO! Você excedeu o limite permitido que é de 80Km/h')\n",
    "    multa = (velocidade-80) * 7\n",
    "    print('Você deve pagar uma multa de \\033[33mR${:.2f}!'.format(multa))\n",
    "\n",
    "    print('\\033[32mTenha um bom dia! Dirija com segurança!')"
   ]
  }
 ],
 "metadata": {
  "kernelspec": {
   "display_name": "Python 3",
   "language": "python",
   "name": "python3"
  },
  "language_info": {
   "codemirror_mode": {
    "name": "ipython",
    "version": 3
   },
   "file_extension": ".py",
   "mimetype": "text/x-python",
   "name": "python",
   "nbconvert_exporter": "python",
   "pygments_lexer": "ipython3",
   "version": "3.8.8"
  }
 },
 "nbformat": 4,
 "nbformat_minor": 5
}
