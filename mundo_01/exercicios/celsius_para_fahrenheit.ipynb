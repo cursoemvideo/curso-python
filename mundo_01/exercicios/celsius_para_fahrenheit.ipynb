{
 "cells": [
  {
   "cell_type": "code",
   "execution_count": 1,
   "id": "74254f9f",
   "metadata": {},
   "outputs": [
    {
     "name": "stdout",
     "output_type": "stream",
     "text": [
      "Informe a temperatura em ˚C: 31\n"
     ]
    }
   ],
   "source": [
    "c = float(input('Informe a temperatura em ˚C: '))"
   ]
  },
  {
   "cell_type": "code",
   "execution_count": 2,
   "id": "5b1edc20",
   "metadata": {},
   "outputs": [],
   "source": [
    "f = 9 * c / 5 + 32"
   ]
  },
  {
   "cell_type": "code",
   "execution_count": 3,
   "id": "4e015d84",
   "metadata": {},
   "outputs": [
    {
     "name": "stdout",
     "output_type": "stream",
     "text": [
      "A temperatura de 31.0˚C corresponde a 87.8˚F!\n"
     ]
    }
   ],
   "source": [
    "print('A temperatura de {}˚C corresponde a {}˚F!'.format(c, f))"
   ]
  }
 ],
 "metadata": {
  "kernelspec": {
   "display_name": "Python 3",
   "language": "python",
   "name": "python3"
  },
  "language_info": {
   "codemirror_mode": {
    "name": "ipython",
    "version": 3
   },
   "file_extension": ".py",
   "mimetype": "text/x-python",
   "name": "python",
   "nbconvert_exporter": "python",
   "pygments_lexer": "ipython3",
   "version": "3.8.8"
  }
 },
 "nbformat": 4,
 "nbformat_minor": 5
}
