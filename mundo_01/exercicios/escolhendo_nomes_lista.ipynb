{
 "cells": [
  {
   "cell_type": "code",
   "execution_count": 1,
   "id": "cfc594ba",
   "metadata": {},
   "outputs": [],
   "source": [
    "from random import shuffle"
   ]
  },
  {
   "cell_type": "code",
   "execution_count": 2,
   "id": "76372647",
   "metadata": {},
   "outputs": [
    {
     "name": "stdout",
     "output_type": "stream",
     "text": [
      "Primeiro aluno: Lucas\n",
      "Segundo aluno: Carla\n",
      "Terceiro aluno: Erica\n",
      "Quarto aluno: Bruno\n"
     ]
    }
   ],
   "source": [
    "n1 = str(input('Primeiro aluno: '))\n",
    "n2 = str(input('Segundo aluno: '))\n",
    "n3 = str(input('Terceiro aluno: '))\n",
    "n4 = str(input('Quarto aluno: '))"
   ]
  },
  {
   "cell_type": "code",
   "execution_count": 3,
   "id": "5e86300c",
   "metadata": {},
   "outputs": [],
   "source": [
    "lista = [n1, n2, n3, n4]\n",
    "shuffle(lista)"
   ]
  },
  {
   "cell_type": "code",
   "execution_count": 4,
   "id": "bbbfba80",
   "metadata": {},
   "outputs": [
    {
     "name": "stdout",
     "output_type": "stream",
     "text": [
      "A ordem de apresentação será \n",
      "['Erica', 'Bruno', 'Carla', 'Lucas']\n"
     ]
    }
   ],
   "source": [
    "print('A ordem de apresentação será ')\n",
    "print(lista)"
   ]
  }
 ],
 "metadata": {
  "kernelspec": {
   "display_name": "Python 3",
   "language": "python",
   "name": "python3"
  },
  "language_info": {
   "codemirror_mode": {
    "name": "ipython",
    "version": 3
   },
   "file_extension": ".py",
   "mimetype": "text/x-python",
   "name": "python",
   "nbconvert_exporter": "python",
   "pygments_lexer": "ipython3",
   "version": "3.8.8"
  }
 },
 "nbformat": 4,
 "nbformat_minor": 5
}
