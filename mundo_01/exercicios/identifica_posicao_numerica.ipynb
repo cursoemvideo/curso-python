{
 "cells": [
  {
   "cell_type": "code",
   "execution_count": 1,
   "id": "a9d3a911",
   "metadata": {},
   "outputs": [
    {
     "name": "stdout",
     "output_type": "stream",
     "text": [
      "Digite um valor: 6\n",
      "O valor digitado foi 6.0 e a sua porção inteira é 6\n"
     ]
    }
   ],
   "source": [
    "num = float(input('Digite um valor: '))\n",
    "print('O valor digitado foi {} e a sua porção inteira é {}'.format(num, int(num)))"
   ]
  },
  {
   "cell_type": "code",
   "execution_count": 2,
   "id": "b327a7a9",
   "metadata": {},
   "outputs": [
    {
     "name": "stdout",
     "output_type": "stream",
     "text": [
      "Digite um valor: 5\n",
      "O valor digitado foi 5.0 e a sua porção inteira é 5\n"
     ]
    }
   ],
   "source": [
    "from math import trunc\n",
    "num = float(input('Digite um valor: '))\n",
    "print('O valor digitado foi {} e a sua porção inteira é {}'.format(num, trunc(num)))"
   ]
  }
 ],
 "metadata": {
  "kernelspec": {
   "display_name": "Python 3",
   "language": "python",
   "name": "python3"
  },
  "language_info": {
   "codemirror_mode": {
    "name": "ipython",
    "version": 3
   },
   "file_extension": ".py",
   "mimetype": "text/x-python",
   "name": "python",
   "nbconvert_exporter": "python",
   "pygments_lexer": "ipython3",
   "version": "3.8.8"
  }
 },
 "nbformat": 4,
 "nbformat_minor": 5
}
