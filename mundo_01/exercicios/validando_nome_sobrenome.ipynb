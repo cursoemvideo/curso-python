{
 "cells": [
  {
   "cell_type": "code",
   "execution_count": 1,
   "id": "45e85a29",
   "metadata": {},
   "outputs": [
    {
     "name": "stdout",
     "output_type": "stream",
     "text": [
      "Digite seu nome completo: Kaíque Reis Matias\n"
     ]
    }
   ],
   "source": [
    "n = str(input('Digite seu nome completo: ')).strip()"
   ]
  },
  {
   "cell_type": "code",
   "execution_count": 2,
   "id": "68a43699",
   "metadata": {},
   "outputs": [],
   "source": [
    "nome = n.split()"
   ]
  },
  {
   "cell_type": "code",
   "execution_count": 3,
   "id": "e353777b",
   "metadata": {},
   "outputs": [
    {
     "name": "stdout",
     "output_type": "stream",
     "text": [
      "Muito prazer em te conhecer!\n",
      "Seu primeiro nome é Kaíque\n",
      "Seu último nome é Matias\n"
     ]
    }
   ],
   "source": [
    "print('Muito prazer em te conhecer!')\n",
    "print('Seu primeiro nome é {}'.format(nome[0]))\n",
    "print('Seu último nome é {}'.format(nome[len(nome)-1]))"
   ]
  }
 ],
 "metadata": {
  "kernelspec": {
   "display_name": "Python 3",
   "language": "python",
   "name": "python3"
  },
  "language_info": {
   "codemirror_mode": {
    "name": "ipython",
    "version": 3
   },
   "file_extension": ".py",
   "mimetype": "text/x-python",
   "name": "python",
   "nbconvert_exporter": "python",
   "pygments_lexer": "ipython3",
   "version": "3.8.8"
  }
 },
 "nbformat": 4,
 "nbformat_minor": 5
}
