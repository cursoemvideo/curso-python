{
 "cells": [
  {
   "cell_type": "code",
   "execution_count": 1,
   "id": "ac90ac7a",
   "metadata": {},
   "outputs": [
    {
     "name": "stdout",
     "output_type": "stream",
     "text": [
      "-=-=-=-=-=-=-=-=-=-=-=-=-=-=-=-=-=-=-=-=\n",
      "Analisador de Triângulos\n",
      "-=-=-=-=-=-=-=-=-=-=-=-=-=-=-=-=-=-=-=-=\n",
      "Primeiro segmento: 6\n",
      "Segundo segmento: 4\n",
      "Terceiro segmento: 3\n",
      "Os segmentos acima PODEM FORMAR triângulo!\n"
     ]
    }
   ],
   "source": [
    "print('-='*20)\n",
    "print('Analisador de Triângulos')\n",
    "print('-='*20)\n",
    "\n",
    "r1 = float(input('Primeiro segmento: '))\n",
    "r2 = float(input('Segundo segmento: '))\n",
    "r3 = float(input('Terceiro segmento: '))\n",
    "\n",
    "if r1 < r2 + r3 and r2 < r1 + r3 and r3 < r1 + r2:\n",
    "    print('Os segmentos acima PODEM FORMAR triângulo!')\n",
    "else:\n",
    "    print('Os segmentos acima NÃO PODEM FORMAR triângulo')"
   ]
  }
 ],
 "metadata": {
  "kernelspec": {
   "display_name": "Python 3",
   "language": "python",
   "name": "python3"
  },
  "language_info": {
   "codemirror_mode": {
    "name": "ipython",
    "version": 3
   },
   "file_extension": ".py",
   "mimetype": "text/x-python",
   "name": "python",
   "nbconvert_exporter": "python",
   "pygments_lexer": "ipython3",
   "version": "3.8.8"
  }
 },
 "nbformat": 4,
 "nbformat_minor": 5
}
