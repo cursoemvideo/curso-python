{
 "cells": [
  {
   "cell_type": "code",
   "execution_count": 1,
   "id": "1c4fbbb0",
   "metadata": {},
   "outputs": [],
   "source": [
    "from math import radians, sin, cos, tan"
   ]
  },
  {
   "cell_type": "code",
   "execution_count": 2,
   "id": "38dcf066",
   "metadata": {},
   "outputs": [
    {
     "name": "stdout",
     "output_type": "stream",
     "text": [
      "Digite o ângulo que você deseja: 5\n"
     ]
    }
   ],
   "source": [
    "ângulo = float(input('Digite o ângulo que você deseja: '))"
   ]
  },
  {
   "cell_type": "code",
   "execution_count": 3,
   "id": "3330e6df",
   "metadata": {},
   "outputs": [],
   "source": [
    "seno = sin(radians(ângulo))"
   ]
  },
  {
   "cell_type": "code",
   "execution_count": 4,
   "id": "5198e19b",
   "metadata": {},
   "outputs": [
    {
     "name": "stdout",
     "output_type": "stream",
     "text": [
      "O ângulo de 5.0 tem o SENO de 0.09\n"
     ]
    }
   ],
   "source": [
    "print('O ângulo de {} tem o SENO de {:.2f}'.format(ângulo, seno))"
   ]
  },
  {
   "cell_type": "code",
   "execution_count": 5,
   "id": "c8409333",
   "metadata": {},
   "outputs": [],
   "source": [
    "cosseno = cos(radians(ângulo))"
   ]
  },
  {
   "cell_type": "code",
   "execution_count": 6,
   "id": "830b731e",
   "metadata": {},
   "outputs": [
    {
     "name": "stdout",
     "output_type": "stream",
     "text": [
      "O ângulo de 5.0 tem o COSSENO de 1.00\n"
     ]
    }
   ],
   "source": [
    "print('O ângulo de {} tem o COSSENO de {:.2f}'.format(ângulo, cosseno))"
   ]
  },
  {
   "cell_type": "code",
   "execution_count": 7,
   "id": "728b1cae",
   "metadata": {},
   "outputs": [],
   "source": [
    "tangente = tan(radians(ângulo))"
   ]
  },
  {
   "cell_type": "code",
   "execution_count": 8,
   "id": "49fba562",
   "metadata": {},
   "outputs": [
    {
     "name": "stdout",
     "output_type": "stream",
     "text": [
      "O ângulo de 5.0 tem a TANGENTE de 0.09\n"
     ]
    }
   ],
   "source": [
    "print('O ângulo de {} tem a TANGENTE de {:.2f}'.format(ângulo, tangente))"
   ]
  }
 ],
 "metadata": {
  "kernelspec": {
   "display_name": "Python 3",
   "language": "python",
   "name": "python3"
  },
  "language_info": {
   "codemirror_mode": {
    "name": "ipython",
    "version": 3
   },
   "file_extension": ".py",
   "mimetype": "text/x-python",
   "name": "python",
   "nbconvert_exporter": "python",
   "pygments_lexer": "ipython3",
   "version": "3.8.8"
  }
 },
 "nbformat": 4,
 "nbformat_minor": 5
}
