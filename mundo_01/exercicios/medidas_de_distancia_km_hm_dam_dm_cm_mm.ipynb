{
 "cells": [
  {
   "cell_type": "code",
   "execution_count": 1,
   "id": "ecb74321",
   "metadata": {},
   "outputs": [
    {
     "name": "stdout",
     "output_type": "stream",
     "text": [
      "Uma distância em metros: 165\n"
     ]
    }
   ],
   "source": [
    "medida = float(input('Uma distância em metros: '))"
   ]
  },
  {
   "cell_type": "code",
   "execution_count": 2,
   "id": "57674f1d",
   "metadata": {},
   "outputs": [],
   "source": [
    "km = medida / 1000\n",
    "hm = medida / 100\n",
    "dam = medida / 10\n",
    "dm = medida * 10\n",
    "cm = medida * 100\n",
    "mm = medida * 1000"
   ]
  },
  {
   "cell_type": "code",
   "execution_count": 3,
   "id": "697b32a5",
   "metadata": {},
   "outputs": [
    {
     "name": "stdout",
     "output_type": "stream",
     "text": [
      "A medida de 165.0m corresponde a \n",
      "0.165km\n",
      "1.65hm\n",
      "16.5dam\n",
      "1650dm\n",
      "16500cm \n",
      "165000mm\n"
     ]
    }
   ],
   "source": [
    "print('A medida de {}m corresponde a \\n{:.3f}km\\n{:.2f}hm\\n{:.1f}dam\\n{:.0f}dm\\n{:.0f}cm \\n{:.0f}mm'.format(medida, km, hm, dam, dm, cm, mm))"
   ]
  }
 ],
 "metadata": {
  "kernelspec": {
   "display_name": "Python 3",
   "language": "python",
   "name": "python3"
  },
  "language_info": {
   "codemirror_mode": {
    "name": "ipython",
    "version": 3
   },
   "file_extension": ".py",
   "mimetype": "text/x-python",
   "name": "python",
   "nbconvert_exporter": "python",
   "pygments_lexer": "ipython3",
   "version": "3.8.8"
  }
 },
 "nbformat": 4,
 "nbformat_minor": 5
}
