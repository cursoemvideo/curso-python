{
 "cells": [
  {
   "cell_type": "code",
   "execution_count": 1,
   "id": "a2ecd090",
   "metadata": {},
   "outputs": [
    {
     "name": "stdout",
     "output_type": "stream",
     "text": [
      "Primeira nota do aluno: 8\n"
     ]
    }
   ],
   "source": [
    "n1 = float(input('Primeira nota do aluno: '))"
   ]
  },
  {
   "cell_type": "code",
   "execution_count": 2,
   "id": "26086806",
   "metadata": {},
   "outputs": [
    {
     "name": "stdout",
     "output_type": "stream",
     "text": [
      "Segunda nota do aluno: 9\n"
     ]
    }
   ],
   "source": [
    "n2 = float(input('Segunda nota do aluno: '))"
   ]
  },
  {
   "cell_type": "code",
   "execution_count": 3,
   "id": "3e8c6e25",
   "metadata": {},
   "outputs": [],
   "source": [
    "média = (n1 + n2) / 2"
   ]
  },
  {
   "cell_type": "code",
   "execution_count": 4,
   "id": "6d0f2976",
   "metadata": {},
   "outputs": [
    {
     "name": "stdout",
     "output_type": "stream",
     "text": [
      "A média entre 8.0 e 9.0 é igual a 8.5\n"
     ]
    }
   ],
   "source": [
    "print('A média entre {:.1f} e {:.1f} é igual a {:.1f}'.format(n1, n2, média))"
   ]
  }
 ],
 "metadata": {
  "kernelspec": {
   "display_name": "Python 3",
   "language": "python",
   "name": "python3"
  },
  "language_info": {
   "codemirror_mode": {
    "name": "ipython",
    "version": 3
   },
   "file_extension": ".py",
   "mimetype": "text/x-python",
   "name": "python",
   "nbconvert_exporter": "python",
   "pygments_lexer": "ipython3",
   "version": "3.8.8"
  }
 },
 "nbformat": 4,
 "nbformat_minor": 5
}
