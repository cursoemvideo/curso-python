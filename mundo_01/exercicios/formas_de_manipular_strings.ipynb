{
 "cells": [
  {
   "cell_type": "code",
   "execution_count": 1,
   "id": "67cb24f7",
   "metadata": {},
   "outputs": [
    {
     "name": "stdout",
     "output_type": "stream",
     "text": [
      "Digite seu nome completo: Vitor Brandão\n",
      "Analisando seu nome...\n",
      "Seu nome em maiúsculas é VITOR BRANDÃO\n",
      "Seu nome em minúsculas é vitor brandão\n",
      "Seu nome tem ao todo 12 letras\n"
     ]
    }
   ],
   "source": [
    "nome = str(input('Digite seu nome completo: ')).strip()\n",
    "print('Analisando seu nome...')\n",
    "print('Seu nome em maiúsculas é {}'.format(nome.upper()))\n",
    "print('Seu nome em minúsculas é {}'.format(nome.lower()))\n",
    "print('Seu nome tem ao todo {} letras'.format(len(nome) - nome.count(' ')))\n",
    "#print('Seu primeiro nome tem {} letras'.format(nome.find(' ')))"
   ]
  },
  {
   "cell_type": "code",
   "execution_count": 2,
   "id": "2feb80e2",
   "metadata": {},
   "outputs": [],
   "source": [
    "separa = nome.split()"
   ]
  },
  {
   "cell_type": "code",
   "execution_count": 3,
   "id": "3d80667a",
   "metadata": {},
   "outputs": [
    {
     "name": "stdout",
     "output_type": "stream",
     "text": [
      "Seu primeiro nome é Vitor e ele tem 5 letras\n"
     ]
    }
   ],
   "source": [
    "print('Seu primeiro nome é {} e ele tem {} letras'.format(separa[0], len(separa[0])))"
   ]
  }
 ],
 "metadata": {
  "kernelspec": {
   "display_name": "Python 3",
   "language": "python",
   "name": "python3"
  },
  "language_info": {
   "codemirror_mode": {
    "name": "ipython",
    "version": 3
   },
   "file_extension": ".py",
   "mimetype": "text/x-python",
   "name": "python",
   "nbconvert_exporter": "python",
   "pygments_lexer": "ipython3",
   "version": "3.8.8"
  }
 },
 "nbformat": 4,
 "nbformat_minor": 5
}
