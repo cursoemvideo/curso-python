{
 "cells": [
  {
   "cell_type": "code",
   "execution_count": 1,
   "id": "ac77b990",
   "metadata": {},
   "outputs": [],
   "source": [
    "from random import choice"
   ]
  },
  {
   "cell_type": "code",
   "execution_count": 2,
   "id": "2390eb25",
   "metadata": {},
   "outputs": [
    {
     "name": "stdout",
     "output_type": "stream",
     "text": [
      "Primeiro aluno: João\n",
      "Segundo aluno: Carlos\n",
      "Terceiro aluno: Ana\n",
      "Quarto aluno: Bruna\n"
     ]
    }
   ],
   "source": [
    "n1 = str(input('Primeiro aluno: '))\n",
    "n2 = str(input('Segundo aluno: '))\n",
    "n3 = str(input('Terceiro aluno: '))\n",
    "n4 = str(input('Quarto aluno: '))"
   ]
  },
  {
   "cell_type": "code",
   "execution_count": 3,
   "id": "c5e947db",
   "metadata": {},
   "outputs": [],
   "source": [
    "lista = [n1, n2, n3, n4]\n",
    "escolhido = choice(lista)"
   ]
  },
  {
   "cell_type": "code",
   "execution_count": 4,
   "id": "3dd7a10c",
   "metadata": {},
   "outputs": [
    {
     "name": "stdout",
     "output_type": "stream",
     "text": [
      "O aluno escolhido foi Bruna\n"
     ]
    }
   ],
   "source": [
    "print('O aluno escolhido foi {}'.format(escolhido))"
   ]
  }
 ],
 "metadata": {
  "kernelspec": {
   "display_name": "Python 3",
   "language": "python",
   "name": "python3"
  },
  "language_info": {
   "codemirror_mode": {
    "name": "ipython",
    "version": 3
   },
   "file_extension": ".py",
   "mimetype": "text/x-python",
   "name": "python",
   "nbconvert_exporter": "python",
   "pygments_lexer": "ipython3",
   "version": "3.8.8"
  }
 },
 "nbformat": 4,
 "nbformat_minor": 5
}
