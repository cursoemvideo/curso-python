{
 "cells": [
  {
   "cell_type": "code",
   "execution_count": 1,
   "id": "7593c648",
   "metadata": {},
   "outputs": [
    {
     "name": "stdout",
     "output_type": "stream",
     "text": [
      "Digite um número para ver sua tabuada: 8\n"
     ]
    }
   ],
   "source": [
    "num = int(input('Digite um número para ver sua tabuada: '))"
   ]
  },
  {
   "cell_type": "code",
   "execution_count": 2,
   "id": "598a193d",
   "metadata": {},
   "outputs": [
    {
     "name": "stdout",
     "output_type": "stream",
     "text": [
      "------------\n",
      "8 x  1 = 8\n",
      "8 x  2 = 16\n",
      "8 x  3 = 24\n",
      "8 x  4 = 32\n",
      "8 x  5 = 40\n",
      "8 x  6 = 48\n",
      "8 x  7 = 56\n",
      "8 x  8 = 64\n",
      "8 x  9 = 72\n",
      "8 x 10 = 80\n",
      "------------\n"
     ]
    }
   ],
   "source": [
    "print('-' * 12)\n",
    "print('{} x {:2} = {}'.format(num, 1, num*1))\n",
    "print('{} x {:2} = {}'.format(num, 2, num*2))\n",
    "print('{} x {:2} = {}'.format(num, 3, num*3))\n",
    "print('{} x {:2} = {}'.format(num, 4, num*4))\n",
    "print('{} x {:2} = {}'.format(num, 5, num*5))\n",
    "print('{} x {:2} = {}'.format(num, 6, num*6))\n",
    "print('{} x {:2} = {}'.format(num, 7, num*7))\n",
    "print('{} x {:2} = {}'.format(num, 8, num*8))\n",
    "print('{} x {:2} = {}'.format(num, 9, num*9))\n",
    "print('{} x {:2} = {}'.format(num, 10, num*10))\n",
    "print('-' * 12)"
   ]
  }
 ],
 "metadata": {
  "kernelspec": {
   "display_name": "Python 3",
   "language": "python",
   "name": "python3"
  },
  "language_info": {
   "codemirror_mode": {
    "name": "ipython",
    "version": 3
   },
   "file_extension": ".py",
   "mimetype": "text/x-python",
   "name": "python",
   "nbconvert_exporter": "python",
   "pygments_lexer": "ipython3",
   "version": "3.8.8"
  }
 },
 "nbformat": 4,
 "nbformat_minor": 5
}
