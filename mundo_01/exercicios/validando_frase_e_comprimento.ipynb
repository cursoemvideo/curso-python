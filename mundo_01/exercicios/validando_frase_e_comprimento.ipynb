{
 "cells": [
  {
   "cell_type": "code",
   "execution_count": 1,
   "id": "3ddb7b10",
   "metadata": {},
   "outputs": [
    {
     "name": "stdout",
     "output_type": "stream",
     "text": [
      "Digite uma frase: Você é capaz\n"
     ]
    }
   ],
   "source": [
    "frase = str(input('Digite uma frase: ')).upper().strip()"
   ]
  },
  {
   "cell_type": "code",
   "execution_count": 2,
   "id": "dff41e3d",
   "metadata": {},
   "outputs": [
    {
     "name": "stdout",
     "output_type": "stream",
     "text": [
      "A letra A aparece 2 vezes na frase.\n",
      "A primeira letra A apareceu na posição 9\n",
      "A última letra A apareceu na posição 11\n"
     ]
    }
   ],
   "source": [
    "print('A letra A aparece {} vezes na frase.'.format(frase.count('A')))\n",
    "print('A primeira letra A apareceu na posição {}'.format(frase.find('A')+1))\n",
    "print('A última letra A apareceu na posição {}'.format(frase.rfind('A')+1))"
   ]
  }
 ],
 "metadata": {
  "kernelspec": {
   "display_name": "Python 3",
   "language": "python",
   "name": "python3"
  },
  "language_info": {
   "codemirror_mode": {
    "name": "ipython",
    "version": 3
   },
   "file_extension": ".py",
   "mimetype": "text/x-python",
   "name": "python",
   "nbconvert_exporter": "python",
   "pygments_lexer": "ipython3",
   "version": "3.8.8"
  }
 },
 "nbformat": 4,
 "nbformat_minor": 5
}
