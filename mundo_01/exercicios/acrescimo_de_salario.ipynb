{
 "cells": [
  {
   "cell_type": "code",
   "execution_count": 1,
   "id": "f7e20f78",
   "metadata": {},
   "outputs": [
    {
     "name": "stdout",
     "output_type": "stream",
     "text": [
      "Qual é o salário do funcionário? R$3500\n"
     ]
    }
   ],
   "source": [
    "salário = float(input('Qual é o salário do funcionário? R$'))"
   ]
  },
  {
   "cell_type": "code",
   "execution_count": 2,
   "id": "fb71bc84",
   "metadata": {},
   "outputs": [],
   "source": [
    "if salário <= 1250:\n",
    "    novo = salário + (salário * 15 / 100)\n",
    "else:\n",
    "    novo = salário + (salário * 10 / 100)"
   ]
  },
  {
   "cell_type": "code",
   "execution_count": 3,
   "id": "269071c6",
   "metadata": {},
   "outputs": [
    {
     "name": "stdout",
     "output_type": "stream",
     "text": [
      "Quem ganhava R$3500.00 passa a ganhar R$3850.00 agora.\n"
     ]
    }
   ],
   "source": [
    "print('Quem ganhava R${:.2f} passa a ganhar R${:.2f} agora.'.format(salário, novo))"
   ]
  }
 ],
 "metadata": {
  "kernelspec": {
   "display_name": "Python 3",
   "language": "python",
   "name": "python3"
  },
  "language_info": {
   "codemirror_mode": {
    "name": "ipython",
    "version": 3
   },
   "file_extension": ".py",
   "mimetype": "text/x-python",
   "name": "python",
   "nbconvert_exporter": "python",
   "pygments_lexer": "ipython3",
   "version": "3.8.8"
  }
 },
 "nbformat": 4,
 "nbformat_minor": 5
}
