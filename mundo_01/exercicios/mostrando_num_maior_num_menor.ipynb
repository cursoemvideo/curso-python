{
 "cells": [
  {
   "cell_type": "code",
   "execution_count": 1,
   "id": "da00ff98",
   "metadata": {},
   "outputs": [
    {
     "name": "stdout",
     "output_type": "stream",
     "text": [
      "Primeiro valor: 3\n",
      "Segundo valor: 8\n",
      "Terceiro valor: 1\n"
     ]
    }
   ],
   "source": [
    "a = int(input('Primeiro valor: '))\n",
    "b = int(input('Segundo valor: '))\n",
    "c = int(input('Terceiro valor: '))"
   ]
  },
  {
   "cell_type": "code",
   "execution_count": 2,
   "id": "a808e3f1",
   "metadata": {},
   "outputs": [],
   "source": [
    "# Verificando quem é menor\n",
    "menor = a\n",
    "\n",
    "if b < a and b < c:\n",
    "    menor = b\n",
    "if c < a and c < b:\n",
    "    menor = c"
   ]
  },
  {
   "cell_type": "code",
   "execution_count": 3,
   "id": "0d1e9c7f",
   "metadata": {},
   "outputs": [],
   "source": [
    "# Verificando quem é o maior\n",
    "maior = a\n",
    "\n",
    "if b > a and b > c:\n",
    "    maior = b\n",
    "if c > a and c > b:\n",
    "    maior = c"
   ]
  },
  {
   "cell_type": "code",
   "execution_count": 4,
   "id": "b68c63d8",
   "metadata": {},
   "outputs": [
    {
     "name": "stdout",
     "output_type": "stream",
     "text": [
      "O menor valor digitado foi 1\n",
      "O maior valor digitado foi 8\n"
     ]
    }
   ],
   "source": [
    "print('O menor valor digitado foi {}'.format(menor))\n",
    "print('O maior valor digitado foi {}'.format(maior))"
   ]
  }
 ],
 "metadata": {
  "kernelspec": {
   "display_name": "Python 3",
   "language": "python",
   "name": "python3"
  },
  "language_info": {
   "codemirror_mode": {
    "name": "ipython",
    "version": 3
   },
   "file_extension": ".py",
   "mimetype": "text/x-python",
   "name": "python",
   "nbconvert_exporter": "python",
   "pygments_lexer": "ipython3",
   "version": "3.8.8"
  }
 },
 "nbformat": 4,
 "nbformat_minor": 5
}
