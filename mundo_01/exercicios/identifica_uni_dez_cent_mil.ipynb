{
 "cells": [
  {
   "cell_type": "code",
   "execution_count": 7,
   "id": "bd08a1ee",
   "metadata": {},
   "outputs": [
    {
     "name": "stdout",
     "output_type": "stream",
     "text": [
      "Informe um número: 1654\n"
     ]
    }
   ],
   "source": [
    "num = int(input('Informe um número: '))"
   ]
  },
  {
   "cell_type": "code",
   "execution_count": 8,
   "id": "7a53abfb",
   "metadata": {},
   "outputs": [],
   "source": [
    "u = num // 1 % 10\n",
    "d = num // 10 % 10\n",
    "c = num // 100 % 10\n",
    "m = num // 1000 % 10"
   ]
  },
  {
   "cell_type": "code",
   "execution_count": 9,
   "id": "8beb12a5",
   "metadata": {},
   "outputs": [
    {
     "name": "stdout",
     "output_type": "stream",
     "text": [
      "Analisando o número 1654\n",
      "Unidade: 4\n",
      "Dezena: 5\n",
      "Centena: 6\n",
      "Milhar: 1\n"
     ]
    }
   ],
   "source": [
    "print('Analisando o número {}'.format(num))\n",
    "print('Unidade: {}'.format(u))\n",
    "print('Dezena: {}'.format(d))\n",
    "print('Centena: {}'.format(c))\n",
    "print('Milhar: {}'.format(m))"
   ]
  }
 ],
 "metadata": {
  "kernelspec": {
   "display_name": "Python 3",
   "language": "python",
   "name": "python3"
  },
  "language_info": {
   "codemirror_mode": {
    "name": "ipython",
    "version": 3
   },
   "file_extension": ".py",
   "mimetype": "text/x-python",
   "name": "python",
   "nbconvert_exporter": "python",
   "pygments_lexer": "ipython3",
   "version": "3.8.8"
  }
 },
 "nbformat": 4,
 "nbformat_minor": 5
}
