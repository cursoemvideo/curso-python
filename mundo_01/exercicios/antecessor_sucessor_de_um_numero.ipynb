{
 "cells": [
  {
   "cell_type": "code",
   "execution_count": 1,
   "id": "5c754889",
   "metadata": {},
   "outputs": [
    {
     "name": "stdout",
     "output_type": "stream",
     "text": [
      "Digite um número: 9\n"
     ]
    }
   ],
   "source": [
    "n = int(input('Digite um número: '))"
   ]
  },
  {
   "cell_type": "code",
   "execution_count": 2,
   "id": "319df9dc",
   "metadata": {},
   "outputs": [
    {
     "name": "stdout",
     "output_type": "stream",
     "text": [
      "Analisando o valor 9, seu antecessor é 8 e o sucessor é 10\n"
     ]
    }
   ],
   "source": [
    "print('Analisando o valor {}, seu antecessor é {} e o sucessor é {}'.format(n, (n-1), (n+1)))"
   ]
  }
 ],
 "metadata": {
  "kernelspec": {
   "display_name": "Python 3",
   "language": "python",
   "name": "python3"
  },
  "language_info": {
   "codemirror_mode": {
    "name": "ipython",
    "version": 3
   },
   "file_extension": ".py",
   "mimetype": "text/x-python",
   "name": "python",
   "nbconvert_exporter": "python",
   "pygments_lexer": "ipython3",
   "version": "3.8.8"
  }
 },
 "nbformat": 4,
 "nbformat_minor": 5
}
