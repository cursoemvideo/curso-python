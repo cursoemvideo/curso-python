{
 "cells": [
  {
   "cell_type": "code",
   "execution_count": 1,
   "id": "9f19e261",
   "metadata": {},
   "outputs": [],
   "source": [
    "from random import randint\n",
    "from time import sleep"
   ]
  },
  {
   "cell_type": "code",
   "execution_count": 2,
   "id": "5283cc9e",
   "metadata": {},
   "outputs": [],
   "source": [
    "computador = randint(0, 0) # Faz o computador \"PENSAR\""
   ]
  },
  {
   "cell_type": "code",
   "execution_count": 4,
   "id": "bad14d4a",
   "metadata": {},
   "outputs": [
    {
     "name": "stdout",
     "output_type": "stream",
     "text": [
      "\u001b[33m-=-\u001b[33m-=-\u001b[33m-=-\u001b[33m-=-\u001b[33m-=-\u001b[33m-=-\u001b[33m-=-\u001b[33m-=-\u001b[33m-=-\u001b[33m-=-\u001b[33m-=-\u001b[33m-=-\u001b[33m-=-\u001b[33m-=-\u001b[33m-=-\u001b[33m-=-\u001b[33m-=-\u001b[33m-=-\u001b[33m-=-\u001b[33m-=-\n",
      "\u001b[34mVou pensar em um número entre 0 e 5. Tente adivinhar...\n",
      "\u001b[33m-=-\u001b[33m-=-\u001b[33m-=-\u001b[33m-=-\u001b[33m-=-\u001b[33m-=-\u001b[33m-=-\u001b[33m-=-\u001b[33m-=-\u001b[33m-=-\u001b[33m-=-\u001b[33m-=-\u001b[33m-=-\u001b[33m-=-\u001b[33m-=-\u001b[33m-=-\u001b[33m-=-\u001b[33m-=-\u001b[33m-=-\u001b[33m-=-\n",
      "Em que número eu pensei? 5\n",
      "\u001b[35mPROCESSANDO...\n",
      "\u001b[31mGANHEI! Eu pensei no número 0 e não no 5!\n"
     ]
    }
   ],
   "source": [
    "print('\\033[33m-=-' * 20)\n",
    "print('\\033[34mVou pensar em um número entre 0 e 5. Tente adivinhar...')\n",
    "print('\\033[33m-=-' * 20)\n",
    "\n",
    "jogador = int(input('\\033[mEm que número eu pensei? ')) # Jogador tenta adivinhar\n",
    "\n",
    "print('\\033[35mPROCESSANDO...')\n",
    "sleep(3)\n",
    "\n",
    "if jogador == computador:\n",
    "    print('\\033[32mPARABÉNS! Você conseguiu me vencer!')\n",
    "else:\n",
    "    print('\\033[31mGANHEI! Eu pensei no número {} e não no {}!'.format(computador, jogador))"
   ]
  }
 ],
 "metadata": {
  "kernelspec": {
   "display_name": "Python 3",
   "language": "python",
   "name": "python3"
  },
  "language_info": {
   "codemirror_mode": {
    "name": "ipython",
    "version": 3
   },
   "file_extension": ".py",
   "mimetype": "text/x-python",
   "name": "python",
   "nbconvert_exporter": "python",
   "pygments_lexer": "ipython3",
   "version": "3.8.8"
  }
 },
 "nbformat": 4,
 "nbformat_minor": 5
}
