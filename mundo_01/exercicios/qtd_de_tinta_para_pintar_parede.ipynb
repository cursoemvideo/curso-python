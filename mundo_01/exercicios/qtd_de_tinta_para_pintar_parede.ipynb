{
 "cells": [
  {
   "cell_type": "code",
   "execution_count": 1,
   "id": "8cf48f4a",
   "metadata": {},
   "outputs": [
    {
     "name": "stdout",
     "output_type": "stream",
     "text": [
      "Largura da parede: 6\n",
      "Altura da parede: 2\n"
     ]
    }
   ],
   "source": [
    "larg = float(input('Largura da parede: '))\n",
    "alt = float(input('Altura da parede: '))"
   ]
  },
  {
   "cell_type": "code",
   "execution_count": 2,
   "id": "a6d6787e",
   "metadata": {},
   "outputs": [],
   "source": [
    "# calculando a area\n",
    "área = larg * alt"
   ]
  },
  {
   "cell_type": "code",
   "execution_count": 3,
   "id": "843f804a",
   "metadata": {},
   "outputs": [
    {
     "name": "stdout",
     "output_type": "stream",
     "text": [
      "Sua parede tem a dimensão de 6.0x2.0 e sua área é de 12.0m².\n"
     ]
    }
   ],
   "source": [
    "print('Sua parede tem a dimensão de {}x{} e sua área é de {}m².'.format(larg, alt, área))"
   ]
  },
  {
   "cell_type": "code",
   "execution_count": 4,
   "id": "692da0a1",
   "metadata": {},
   "outputs": [],
   "source": [
    "# calculando a quantidade de tinta necessaria\n",
    "tinta = área / 2"
   ]
  },
  {
   "cell_type": "code",
   "execution_count": 5,
   "id": "d307b60b",
   "metadata": {},
   "outputs": [
    {
     "name": "stdout",
     "output_type": "stream",
     "text": [
      "Para pintar essa parede, você precisará de 6.0l de tinta.\n"
     ]
    }
   ],
   "source": [
    "print('Para pintar essa parede, você precisará de {}l de tinta.'.format(tinta))"
   ]
  }
 ],
 "metadata": {
  "kernelspec": {
   "display_name": "Python 3",
   "language": "python",
   "name": "python3"
  },
  "language_info": {
   "codemirror_mode": {
    "name": "ipython",
    "version": 3
   },
   "file_extension": ".py",
   "mimetype": "text/x-python",
   "name": "python",
   "nbconvert_exporter": "python",
   "pygments_lexer": "ipython3",
   "version": "3.8.8"
  }
 },
 "nbformat": 4,
 "nbformat_minor": 5
}
