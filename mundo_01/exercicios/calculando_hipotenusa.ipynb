{
 "cells": [
  {
   "cell_type": "code",
   "execution_count": 3,
   "id": "6989e4c8",
   "metadata": {},
   "outputs": [],
   "source": [
    "from math import hypot"
   ]
  },
  {
   "cell_type": "code",
   "execution_count": 4,
   "id": "718a6fd6",
   "metadata": {},
   "outputs": [
    {
     "name": "stdout",
     "output_type": "stream",
     "text": [
      "Comprimento do cateto oposto: 6\n",
      "Comprimento do cateto adjacente: 3\n"
     ]
    }
   ],
   "source": [
    "co = float(input('Comprimento do cateto oposto: '))\n",
    "ca = float(input('Comprimento do cateto adjacente: '))"
   ]
  },
  {
   "cell_type": "code",
   "execution_count": 5,
   "id": "d3005df0",
   "metadata": {},
   "outputs": [],
   "source": [
    "hi = hypot(co, ca)"
   ]
  },
  {
   "cell_type": "code",
   "execution_count": 6,
   "id": "a8f72fac",
   "metadata": {},
   "outputs": [
    {
     "name": "stdout",
     "output_type": "stream",
     "text": [
      "A hipotenusa vai medir 6.71\n"
     ]
    }
   ],
   "source": [
    "print('A hipotenusa vai medir {:.2f}'.format(hi))"
   ]
  }
 ],
 "metadata": {
  "kernelspec": {
   "display_name": "Python 3",
   "language": "python",
   "name": "python3"
  },
  "language_info": {
   "codemirror_mode": {
    "name": "ipython",
    "version": 3
   },
   "file_extension": ".py",
   "mimetype": "text/x-python",
   "name": "python",
   "nbconvert_exporter": "python",
   "pygments_lexer": "ipython3",
   "version": "3.8.8"
  }
 },
 "nbformat": 4,
 "nbformat_minor": 5
}
