{
 "cells": [
  {
   "cell_type": "code",
   "execution_count": 1,
   "id": "374f1545",
   "metadata": {},
   "outputs": [
    {
     "name": "stdout",
     "output_type": "stream",
     "text": [
      "Me diga um número qualquer: 6\n"
     ]
    }
   ],
   "source": [
    "número = int(input('\\033[35mMe diga um número qualquer: '))"
   ]
  },
  {
   "cell_type": "code",
   "execution_count": 2,
   "id": "d8d1b982",
   "metadata": {},
   "outputs": [],
   "source": [
    "resultado = número % 2"
   ]
  },
  {
   "cell_type": "code",
   "execution_count": 3,
   "id": "b32822f0",
   "metadata": {},
   "outputs": [
    {
     "name": "stdout",
     "output_type": "stream",
     "text": [
      "\u001b[37mO número 6 é \u001b[34mPAR\n"
     ]
    }
   ],
   "source": [
    "if resultado == 0:\n",
    "    print('\\033[37mO número {} é \\033[34mPAR'.format(número))\n",
    "else:\n",
    "    print('\\033[37mO número {} é \\033[34mÍMPAR'.format(número))"
   ]
  }
 ],
 "metadata": {
  "kernelspec": {
   "display_name": "Python 3",
   "language": "python",
   "name": "python3"
  },
  "language_info": {
   "codemirror_mode": {
    "name": "ipython",
    "version": 3
   },
   "file_extension": ".py",
   "mimetype": "text/x-python",
   "name": "python",
   "nbconvert_exporter": "python",
   "pygments_lexer": "ipython3",
   "version": "3.8.8"
  }
 },
 "nbformat": 4,
 "nbformat_minor": 5
}
