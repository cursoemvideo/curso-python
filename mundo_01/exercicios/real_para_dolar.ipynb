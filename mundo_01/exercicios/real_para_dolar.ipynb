{
 "cells": [
  {
   "cell_type": "code",
   "execution_count": 1,
   "id": "da85d3eb",
   "metadata": {},
   "outputs": [
    {
     "name": "stdout",
     "output_type": "stream",
     "text": [
      "Quanto dinheiro você tem na carteira? R$365\n"
     ]
    }
   ],
   "source": [
    "real = float(input('Quanto dinheiro você tem na carteira? R$'))"
   ]
  },
  {
   "cell_type": "code",
   "execution_count": 2,
   "id": "1868a1a7",
   "metadata": {},
   "outputs": [],
   "source": [
    "# calculo do dolar\n",
    "dolar = real / 3.27"
   ]
  },
  {
   "cell_type": "code",
   "execution_count": 3,
   "id": "b27b5fc7",
   "metadata": {},
   "outputs": [
    {
     "name": "stdout",
     "output_type": "stream",
     "text": [
      "Com R$365.00 você pode comprar US$111.62\n"
     ]
    }
   ],
   "source": [
    "print('Com R${:.2f} você pode comprar US${:.2f}'.format(real, dolar))"
   ]
  }
 ],
 "metadata": {
  "kernelspec": {
   "display_name": "Python 3",
   "language": "python",
   "name": "python3"
  },
  "language_info": {
   "codemirror_mode": {
    "name": "ipython",
    "version": 3
   },
   "file_extension": ".py",
   "mimetype": "text/x-python",
   "name": "python",
   "nbconvert_exporter": "python",
   "pygments_lexer": "ipython3",
   "version": "3.8.8"
  }
 },
 "nbformat": 4,
 "nbformat_minor": 5
}
