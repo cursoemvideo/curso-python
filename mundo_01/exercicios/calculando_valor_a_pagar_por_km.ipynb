{
 "cells": [
  {
   "cell_type": "code",
   "execution_count": 1,
   "id": "bdffb57b",
   "metadata": {},
   "outputs": [
    {
     "name": "stdout",
     "output_type": "stream",
     "text": [
      "Quantos dias alugados? 6\n",
      "Quantos Km rodados? 23\n"
     ]
    }
   ],
   "source": [
    "dias = int(input('Quantos dias alugados? '))\n",
    "km = float(input('Quantos Km rodados? '))"
   ]
  },
  {
   "cell_type": "code",
   "execution_count": 2,
   "id": "458f9a8b",
   "metadata": {},
   "outputs": [],
   "source": [
    "pago = (dias * 60) + (km * 0.15)"
   ]
  },
  {
   "cell_type": "code",
   "execution_count": 3,
   "id": "91af2cbb",
   "metadata": {},
   "outputs": [
    {
     "name": "stdout",
     "output_type": "stream",
     "text": [
      "O total a pagar é de R$363.45\n"
     ]
    }
   ],
   "source": [
    "print('O total a pagar é de R${:.2f}'.format(pago))"
   ]
  }
 ],
 "metadata": {
  "kernelspec": {
   "display_name": "Python 3",
   "language": "python",
   "name": "python3"
  },
  "language_info": {
   "codemirror_mode": {
    "name": "ipython",
    "version": 3
   },
   "file_extension": ".py",
   "mimetype": "text/x-python",
   "name": "python",
   "nbconvert_exporter": "python",
   "pygments_lexer": "ipython3",
   "version": "3.8.8"
  }
 },
 "nbformat": 4,
 "nbformat_minor": 5
}
