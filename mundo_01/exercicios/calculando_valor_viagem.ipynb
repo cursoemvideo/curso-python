{
 "cells": [
  {
   "cell_type": "code",
   "execution_count": 1,
   "id": "099c9f8e",
   "metadata": {},
   "outputs": [
    {
     "name": "stdout",
     "output_type": "stream",
     "text": [
      "Qual é a distância da sua viagem? 56\n",
      "Você está prestes a começar uma viagem de 56.0Km.\n",
      "E o preço da sua passagem será de R$28.00\n"
     ]
    }
   ],
   "source": [
    "distância = float(input('Qual é a distância da sua viagem? '))\n",
    "\n",
    "print('Você está prestes a começar uma viagem de {}Km.'.format(distância))\n",
    "\n",
    "preço = distância * 0.50 if distância <= 200 else distância * 0.45\n",
    "\n",
    "print('E o preço da sua passagem será de R${:.2f}'.format(preço))"
   ]
  }
 ],
 "metadata": {
  "kernelspec": {
   "display_name": "Python 3",
   "language": "python",
   "name": "python3"
  },
  "language_info": {
   "codemirror_mode": {
    "name": "ipython",
    "version": 3
   },
   "file_extension": ".py",
   "mimetype": "text/x-python",
   "name": "python",
   "nbconvert_exporter": "python",
   "pygments_lexer": "ipython3",
   "version": "3.8.8"
  }
 },
 "nbformat": 4,
 "nbformat_minor": 5
}
